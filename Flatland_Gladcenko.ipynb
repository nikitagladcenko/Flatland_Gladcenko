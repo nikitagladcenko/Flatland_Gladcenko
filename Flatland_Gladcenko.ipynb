{
 "cells": [
  {
   "cell_type": "code",
   "execution_count": 1,
   "id": "4445906b",
   "metadata": {},
   "outputs": [],
   "source": [
    "import gzip\n",
    "import pickle\n",
    "import time\n",
    "import os\n",
    "import numpy as np\n",
    "import pandas as pd\n",
    "from tensorflow import keras\n",
    "from datetime import datetime\n",
    "from sklearn.model_selection import train_test_split\n",
    "from tensorflow.keras.layers import Dense, Input, Flatten, Conv2D, BatchNormalization, \\\n",
    "                                    Activation, Dropout, MaxPooling2D\n",
    "from tensorflow.keras.models import Sequential\n",
    "from tensorflow.keras.optimizers import Adam\n",
    "from tensorflow.keras.callbacks import TensorBoard"
   ]
  },
  {
   "cell_type": "code",
   "execution_count": 2,
   "id": "19203eb2",
   "metadata": {},
   "outputs": [],
   "source": [
    "path = 'flatland_train.data'\n",
    "X, y = pickle.load(gzip.open(path, 'rb'))\n",
    "y[y != 0] -= 2\n",
    "X = X.reshape(X.shape[0], 50, 50, 1) / 255."
   ]
  },
  {
   "cell_type": "code",
   "execution_count": 3,
   "id": "2a2bb59e",
   "metadata": {},
   "outputs": [],
   "source": [
    "X_train, X_test, y_train, y_test = train_test_split(X,y, test_size = 0.3, random_state = 15)"
   ]
  },
  {
   "cell_type": "code",
   "execution_count": 5,
   "id": "9d2968c9",
   "metadata": {
    "scrolled": true
   },
   "outputs": [
    {
     "name": "stdout",
     "output_type": "stream",
     "text": [
      "Model: \"sequential\"\n",
      "_________________________________________________________________\n",
      "Layer (type)                 Output Shape              Param #   \n",
      "=================================================================\n",
      "flatten (Flatten)            (None, 2500)              0         \n",
      "_________________________________________________________________\n",
      "dense (Dense)                (None, 20)                50020     \n",
      "_________________________________________________________________\n",
      "dense_1 (Dense)              (None, 5)                 105       \n",
      "=================================================================\n",
      "Total params: 50,125\n",
      "Trainable params: 50,125\n",
      "Non-trainable params: 0\n",
      "_________________________________________________________________\n"
     ]
    },
    {
     "name": "stderr",
     "output_type": "stream",
     "text": [
      "2021-12-19 21:51:06.340861: W tensorflow/stream_executor/platform/default/dso_loader.cc:65] Could not load dynamic library 'libcuda.so.1'; dlerror: libcuda.so.1: cannot open shared object file: No such file or directory; LD_LIBRARY_PATH: /usr/local/cuda/extras/CUPTI/lib64:/usr/local/cuda/compat/lib:/usr/local/nvidia/lib:/usr/local/nvidia/lib64\n",
      "2021-12-19 21:51:06.341616: W tensorflow/stream_executor/cuda/cuda_driver.cc:269] failed call to cuInit: UNKNOWN ERROR (303)\n",
      "2021-12-19 21:51:06.341648: I tensorflow/stream_executor/cuda/cuda_diagnostics.cc:156] kernel driver does not appear to be running on this host (nmjid5z1nm): /proc/driver/nvidia/version does not exist\n"
     ]
    }
   ],
   "source": [
    "model = keras.models.Sequential()\n",
    "model.add(keras.layers.Flatten(input_shape = (50, 50)))\n",
    "model.add(keras.layers.Dense(20, activation = 'relu'))\n",
    "model.add(keras.layers.Dense(5, activation = 'softmax'))\n",
    "model.compile(loss = 'sparse_categorical_crossentropy', \n",
    "              optimizer = 'sgd', \n",
    "              metrics = ['accuracy'])\n",
    "\n",
    "model.summary()"
   ]
  },
  {
   "cell_type": "code",
   "execution_count": 7,
   "id": "87e993d7",
   "metadata": {
    "scrolled": true
   },
   "outputs": [
    {
     "name": "stdout",
     "output_type": "stream",
     "text": [
      "Epoch 1/15\n",
      " 21/219 [=>............................] - ETA: 0s - loss: 1.1825 - accuracy: 0.5149"
     ]
    },
    {
     "name": "stderr",
     "output_type": "stream",
     "text": [
      "2021-12-19 21:52:03.321662: W tensorflow/core/framework/cpu_allocator_impl.cc:80] Allocation of 70000000 exceeds 10% of free system memory.\n"
     ]
    },
    {
     "name": "stdout",
     "output_type": "stream",
     "text": [
      "219/219 [==============================] - 1s 3ms/step - loss: 1.1806 - accuracy: 0.5064\n",
      "Epoch 2/15\n",
      "219/219 [==============================] - 1s 3ms/step - loss: 1.1568 - accuracy: 0.5163\n",
      "Epoch 3/15\n",
      "219/219 [==============================] - 1s 3ms/step - loss: 1.1411 - accuracy: 0.5221\n",
      "Epoch 4/15\n",
      "219/219 [==============================] - 1s 3ms/step - loss: 1.1252 - accuracy: 0.5267\n",
      "Epoch 5/15\n",
      "219/219 [==============================] - 1s 3ms/step - loss: 1.1049 - accuracy: 0.5384\n",
      "Epoch 6/15\n",
      "219/219 [==============================] - 1s 3ms/step - loss: 1.0887 - accuracy: 0.5451\n",
      "Epoch 7/15\n",
      "219/219 [==============================] - 1s 3ms/step - loss: 1.0750 - accuracy: 0.5529\n",
      "Epoch 8/15\n",
      "219/219 [==============================] - 1s 3ms/step - loss: 1.0565 - accuracy: 0.5643: 0s - loss: 1.0647 - accuracy\n",
      "Epoch 9/15\n",
      "219/219 [==============================] - 1s 3ms/step - loss: 1.0414 - accuracy: 0.5691\n",
      "Epoch 10/15\n",
      "219/219 [==============================] - 1s 3ms/step - loss: 1.0285 - accuracy: 0.5771\n",
      "Epoch 11/15\n",
      "219/219 [==============================] - 1s 3ms/step - loss: 1.0127 - accuracy: 0.5876\n",
      "Epoch 12/15\n",
      "219/219 [==============================] - 1s 3ms/step - loss: 0.9980 - accuracy: 0.5916\n",
      "Epoch 13/15\n",
      "219/219 [==============================] - 1s 3ms/step - loss: 0.9858 - accuracy: 0.5991\n",
      "Epoch 14/15\n",
      "219/219 [==============================] - 1s 3ms/step - loss: 0.9702 - accuracy: 0.6057\n",
      "Epoch 15/15\n",
      "219/219 [==============================] - 1s 3ms/step - loss: 0.9564 - accuracy: 0.6134\n"
     ]
    },
    {
     "data": {
      "text/plain": [
       "<keras.callbacks.History at 0x7fd8e00c0880>"
      ]
     },
     "execution_count": 7,
     "metadata": {},
     "output_type": "execute_result"
    }
   ],
   "source": [
    "model.fit(X_train, y_train, epochs = 15)"
   ]
  },
  {
   "cell_type": "code",
   "execution_count": 19,
   "id": "b7f74bf9",
   "metadata": {},
   "outputs": [
    {
     "name": "stdout",
     "output_type": "stream",
     "text": [
      "Model: \"sequential_4\"\n",
      "_________________________________________________________________\n",
      "Layer (type)                 Output Shape              Param #   \n",
      "=================================================================\n",
      "flatten_4 (Flatten)          (None, 2500)              0         \n",
      "_________________________________________________________________\n",
      "dense_8 (Dense)              (None, 256)               640256    \n",
      "_________________________________________________________________\n",
      "dropout_2 (Dropout)          (None, 256)               0         \n",
      "_________________________________________________________________\n",
      "dense_9 (Dense)              (None, 128)               32896     \n",
      "_________________________________________________________________\n",
      "dropout_3 (Dropout)          (None, 128)               0         \n",
      "_________________________________________________________________\n",
      "dense_10 (Dense)             (None, 64)                8256      \n",
      "_________________________________________________________________\n",
      "dropout_4 (Dropout)          (None, 64)                0         \n",
      "_________________________________________________________________\n",
      "dense_11 (Dense)             (None, 10)                650       \n",
      "=================================================================\n",
      "Total params: 682,058\n",
      "Trainable params: 682,058\n",
      "Non-trainable params: 0\n",
      "_________________________________________________________________\n"
     ]
    }
   ],
   "source": [
    "model = keras.models.Sequential()\n",
    "model.add(keras.layers.Flatten(input_shape = (50,50)))\n",
    "model.add(keras.layers.Dense(256, activation = 'relu'))\n",
    "model.add(keras.layers.Dropout(0.4))\n",
    "model.add(keras.layers.Dense(128, activation = 'relu'))\n",
    "model.add(keras.layers.Dropout(0.4))\n",
    "model.add(keras.layers.Dense(64, activation = 'relu'))\n",
    "model.add(keras.layers.Dropout(0.4))\n",
    "model.add(keras.layers.Dense(10, activation = 'softmax'))\n",
    "model.compile(loss = 'sparse_categorical_crossentropy',\n",
    "              optimizer = keras.optimizers.Adam(learning_rate = 3e-4),\n",
    "              metrics = ['accuracy'])\n",
    "model.summary()"
   ]
  },
  {
   "cell_type": "code",
   "execution_count": 21,
   "id": "ac50cdb7",
   "metadata": {},
   "outputs": [
    {
     "name": "stdout",
     "output_type": "stream",
     "text": [
      "Epoch 1/15\n",
      "219/219 [==============================] - 3s 12ms/step - loss: 0.9412 - accuracy: 0.6003\n",
      "Epoch 2/15\n",
      "219/219 [==============================] - 3s 12ms/step - loss: 0.9058 - accuracy: 0.6207\n",
      "Epoch 3/15\n",
      "219/219 [==============================] - 2s 11ms/step - loss: 0.8699 - accuracy: 0.6343\n",
      "Epoch 4/15\n",
      "219/219 [==============================] - 2s 11ms/step - loss: 0.8408 - accuracy: 0.6470\n",
      "Epoch 5/15\n",
      "219/219 [==============================] - 2s 11ms/step - loss: 0.8331 - accuracy: 0.6529\n",
      "Epoch 6/15\n",
      "219/219 [==============================] - 3s 11ms/step - loss: 0.7896 - accuracy: 0.6669\n",
      "Epoch 7/15\n",
      "219/219 [==============================] - 2s 11ms/step - loss: 0.7750 - accuracy: 0.6769\n",
      "Epoch 8/15\n",
      "219/219 [==============================] - 3s 12ms/step - loss: 0.7625 - accuracy: 0.6881\n",
      "Epoch 9/15\n",
      "219/219 [==============================] - 2s 11ms/step - loss: 0.7441 - accuracy: 0.6899\n",
      "Epoch 10/15\n",
      "219/219 [==============================] - 3s 12ms/step - loss: 0.7336 - accuracy: 0.6999\n",
      "Epoch 11/15\n",
      "219/219 [==============================] - 3s 11ms/step - loss: 0.7124 - accuracy: 0.7064\n",
      "Epoch 12/15\n",
      "219/219 [==============================] - 3s 12ms/step - loss: 0.6954 - accuracy: 0.7123\n",
      "Epoch 13/15\n",
      "219/219 [==============================] - 2s 11ms/step - loss: 0.6807 - accuracy: 0.7224\n",
      "Epoch 14/15\n",
      "219/219 [==============================] - 3s 12ms/step - loss: 0.6753 - accuracy: 0.7216\n",
      "Epoch 15/15\n",
      "219/219 [==============================] - 3s 12ms/step - loss: 0.6506 - accuracy: 0.7377\n"
     ]
    },
    {
     "data": {
      "text/plain": [
       "<keras.callbacks.History at 0x7fd8f100a910>"
      ]
     },
     "execution_count": 21,
     "metadata": {},
     "output_type": "execute_result"
    }
   ],
   "source": [
    "model.fit(X_train, y_train, epochs = 15)"
   ]
  },
  {
   "cell_type": "code",
   "execution_count": 22,
   "id": "3214adde",
   "metadata": {},
   "outputs": [
    {
     "name": "stdout",
     "output_type": "stream",
     "text": [
      "Model: \"sequential_5\"\n",
      "_________________________________________________________________\n",
      "Layer (type)                 Output Shape              Param #   \n",
      "=================================================================\n",
      "conv2d_6 (Conv2D)            (None, 48, 48, 32)        320       \n",
      "_________________________________________________________________\n",
      "max_pooling2d_3 (MaxPooling2 (None, 24, 24, 32)        0         \n",
      "_________________________________________________________________\n",
      "conv2d_7 (Conv2D)            (None, 22, 22, 32)        9248      \n",
      "_________________________________________________________________\n",
      "max_pooling2d_4 (MaxPooling2 (None, 11, 11, 32)        0         \n",
      "_________________________________________________________________\n",
      "flatten_5 (Flatten)          (None, 3872)              0         \n",
      "_________________________________________________________________\n",
      "dense_12 (Dense)             (None, 256)               991488    \n",
      "_________________________________________________________________\n",
      "dropout_5 (Dropout)          (None, 256)               0         \n",
      "_________________________________________________________________\n",
      "dense_13 (Dense)             (None, 128)               32896     \n",
      "_________________________________________________________________\n",
      "dropout_6 (Dropout)          (None, 128)               0         \n",
      "_________________________________________________________________\n",
      "dense_14 (Dense)             (None, 10)                1290      \n",
      "=================================================================\n",
      "Total params: 1,035,242\n",
      "Trainable params: 1,035,242\n",
      "Non-trainable params: 0\n",
      "_________________________________________________________________\n"
     ]
    }
   ],
   "source": [
    "model = keras.models.Sequential()\n",
    "model.add(keras.layers.Conv2D(32, (3, 3), activation ='relu', input_shape = (50, 50, 1)))\n",
    "model.add(keras.layers.MaxPool2D())\n",
    "model.add(keras.layers.Conv2D(32, (3, 3), activation ='relu'))\n",
    "model.add(keras.layers.MaxPool2D())\n",
    "model.add(keras.layers.Flatten())\n",
    "model.add(keras.layers.Dense(256, activation = 'relu'))\n",
    "model.add(keras.layers.Dropout(0.4))\n",
    "model.add(keras.layers.Dense(128, activation = 'relu'))\n",
    "model.add(keras.layers.Dropout(0.4))\n",
    "model.add(keras.layers.Dense(10, activation = 'softmax'))\n",
    "model.compile(loss = 'sparse_categorical_crossentropy',\n",
    "              optimizer = keras.optimizers.Adam(learning_rate = 3e-4),\n",
    "              metrics = ['accuracy'])\n",
    "model.summary()"
   ]
  },
  {
   "cell_type": "code",
   "execution_count": 23,
   "id": "a4299919",
   "metadata": {},
   "outputs": [
    {
     "name": "stdout",
     "output_type": "stream",
     "text": [
      "Epoch 1/15\n",
      "28/28 [==============================] - 38s 1s/step - loss: 1.8297 - accuracy: 0.2663 - val_loss: 1.4633 - val_accuracy: 0.4433\n",
      "Epoch 2/15\n",
      "28/28 [==============================] - 38s 1s/step - loss: 1.4438 - accuracy: 0.4047 - val_loss: 1.2319 - val_accuracy: 0.4983\n",
      "Epoch 3/15\n",
      "28/28 [==============================] - 37s 1s/step - loss: 1.2822 - accuracy: 0.4607 - val_loss: 1.1630 - val_accuracy: 0.5040\n",
      "Epoch 4/15\n",
      "28/28 [==============================] - 37s 1s/step - loss: 1.2345 - accuracy: 0.4727 - val_loss: 1.1400 - val_accuracy: 0.5030\n",
      "Epoch 5/15\n",
      "28/28 [==============================] - 37s 1s/step - loss: 1.2042 - accuracy: 0.4810 - val_loss: 1.1053 - val_accuracy: 0.5207\n",
      "Epoch 6/15\n",
      "28/28 [==============================] - 37s 1s/step - loss: 1.1660 - accuracy: 0.4967 - val_loss: 1.0780 - val_accuracy: 0.5313\n",
      "Epoch 7/15\n",
      "28/28 [==============================] - 37s 1s/step - loss: 1.1233 - accuracy: 0.5176 - val_loss: 1.0406 - val_accuracy: 0.5383\n",
      "Epoch 8/15\n",
      "28/28 [==============================] - 37s 1s/step - loss: 1.0874 - accuracy: 0.5306 - val_loss: 0.9996 - val_accuracy: 0.5677\n",
      "Epoch 9/15\n",
      "28/28 [==============================] - 37s 1s/step - loss: 1.0346 - accuracy: 0.5580 - val_loss: 0.9586 - val_accuracy: 0.5927\n",
      "Epoch 10/15\n",
      "28/28 [==============================] - 37s 1s/step - loss: 0.9895 - accuracy: 0.5800 - val_loss: 0.9042 - val_accuracy: 0.6223\n",
      "Epoch 11/15\n",
      "28/28 [==============================] - 37s 1s/step - loss: 0.9239 - accuracy: 0.6066 - val_loss: 0.8457 - val_accuracy: 0.6470\n",
      "Epoch 12/15\n",
      "28/28 [==============================] - 38s 1s/step - loss: 0.8702 - accuracy: 0.6379 - val_loss: 0.7955 - val_accuracy: 0.6817\n",
      "Epoch 13/15\n",
      "28/28 [==============================] - 38s 1s/step - loss: 0.8318 - accuracy: 0.6553 - val_loss: 0.7402 - val_accuracy: 0.7150\n",
      "Epoch 14/15\n",
      "28/28 [==============================] - 38s 1s/step - loss: 0.7675 - accuracy: 0.6887 - val_loss: 0.6992 - val_accuracy: 0.7303\n",
      "Epoch 15/15\n",
      "28/28 [==============================] - 37s 1s/step - loss: 0.7081 - accuracy: 0.7189 - val_loss: 0.6388 - val_accuracy: 0.7620\n"
     ]
    },
    {
     "data": {
      "text/plain": [
       "<AxesSubplot:>"
      ]
     },
     "execution_count": 23,
     "metadata": {},
     "output_type": "execute_result"
    },
    {
     "data": {
      "image/png": "[encoded data removed]",
      "text/plain": [
       "<Figure size 432x288 with 1 Axes>"
      ]
     },
     "metadata": {
      "needs_background": "light"
     },
     "output_type": "display_data"
    }
   ],
   "source": [
    "loss = model.fit(X_train, y_train, validation_data = (X_test, y_test), epochs = 15, batch_size = 256)"
   ]
  },
  {
   "cell_type": "code",
   "execution_count": 4,
   "id": "402bc3cc",
   "metadata": {},
   "outputs": [
    {
     "name": "stdout",
     "output_type": "stream",
     "text": [
      "Model: \"sequential\"\n",
      "_________________________________________________________________\n",
      "Layer (type)                 Output Shape              Param #   \n",
      "=================================================================\n",
      "conv2d (Conv2D)              (None, 48, 48, 32)        320       \n",
      "_________________________________________________________________\n",
      "batch_normalization (BatchNo (None, 48, 48, 32)        128       \n",
      "_________________________________________________________________\n",
      "max_pooling2d (MaxPooling2D) (None, 24, 24, 32)        0         \n",
      "_________________________________________________________________\n",
      "conv2d_1 (Conv2D)            (None, 22, 22, 32)        9248      \n",
      "_________________________________________________________________\n",
      "max_pooling2d_1 (MaxPooling2 (None, 11, 11, 32)        0         \n",
      "_________________________________________________________________\n",
      "conv2d_2 (Conv2D)            (None, 9, 9, 32)          9248      \n",
      "_________________________________________________________________\n",
      "max_pooling2d_2 (MaxPooling2 (None, 4, 4, 32)          0         \n",
      "_________________________________________________________________\n",
      "batch_normalization_1 (Batch (None, 4, 4, 32)          128       \n",
      "_________________________________________________________________\n",
      "flatten (Flatten)            (None, 512)               0         \n",
      "_________________________________________________________________\n",
      "dense (Dense)                (None, 256)               131328    \n",
      "_________________________________________________________________\n",
      "dropout (Dropout)            (None, 256)               0         \n",
      "_________________________________________________________________\n",
      "dense_1 (Dense)              (None, 128)               32896     \n",
      "_________________________________________________________________\n",
      "dropout_1 (Dropout)          (None, 128)               0         \n",
      "_________________________________________________________________\n",
      "dense_2 (Dense)              (None, 64)                8256      \n",
      "_________________________________________________________________\n",
      "dropout_2 (Dropout)          (None, 64)                0         \n",
      "_________________________________________________________________\n",
      "dense_3 (Dense)              (None, 10)                650       \n",
      "=================================================================\n",
      "Total params: 192,202\n",
      "Trainable params: 192,074\n",
      "Non-trainable params: 128\n",
      "_________________________________________________________________\n"
     ]
    },
    {
     "name": "stderr",
     "output_type": "stream",
     "text": [
      "2021-12-19 22:34:33.151902: W tensorflow/stream_executor/platform/default/dso_loader.cc:65] Could not load dynamic library 'libcuda.so.1'; dlerror: libcuda.so.1: cannot open shared object file: No such file or directory; LD_LIBRARY_PATH: /usr/local/cuda/extras/CUPTI/lib64:/usr/local/cuda/compat/lib:/usr/local/nvidia/lib:/usr/local/nvidia/lib64\n",
      "2021-12-19 22:34:33.152019: W tensorflow/stream_executor/cuda/cuda_driver.cc:269] failed call to cuInit: UNKNOWN ERROR (303)\n",
      "2021-12-19 22:34:33.152049: I tensorflow/stream_executor/cuda/cuda_diagnostics.cc:156] kernel driver does not appear to be running on this host (nmjid5z1nm): /proc/driver/nvidia/version does not exist\n"
     ]
    }
   ],
   "source": [
    "model = keras.models.Sequential()\n",
    "model.add(keras.layers.Conv2D(32, (3, 3), activation ='relu', input_shape = (50, 50, 1)))\n",
    "model.add(keras.layers.BatchNormalization(axis = -1))\n",
    "model.add(keras.layers.MaxPool2D())\n",
    "model.add(keras.layers.Conv2D(32, (3, 3), activation ='relu'))\n",
    "model.add(keras.layers.MaxPool2D())\n",
    "model.add(keras.layers.Conv2D(32, (3, 3), activation ='relu'))\n",
    "model.add(keras.layers.MaxPool2D())\n",
    "model.add(keras.layers.BatchNormalization(axis = -1))\n",
    "model.add(keras.layers.Flatten())\n",
    "model.add(keras.layers.Dense(256, activation = 'relu'))\n",
    "model.add(keras.layers.Dropout(0.4))\n",
    "model.add(keras.layers.Dense(128, activation = 'relu'))\n",
    "model.add(keras.layers.Dropout(0.4))\n",
    "model.add(keras.layers.Dense(64, activation = 'relu'))\n",
    "model.add(keras.layers.Dropout(0.4))\n",
    "model.add(keras.layers.Dense(10, activation = 'softmax'))\n",
    "model.compile(loss = 'sparse_categorical_crossentropy',\n",
    "              optimizer = keras.optimizers.Adam(learning_rate = 3e-4),\n",
    "              metrics = ['accuracy'])\n",
    "model.summary()"
   ]
  },
  {
   "cell_type": "code",
   "execution_count": 5,
   "id": "df92be82",
   "metadata": {},
   "outputs": [
    {
     "name": "stderr",
     "output_type": "stream",
     "text": [
      "2021-12-19 22:34:40.113085: I tensorflow/compiler/mlir/mlir_graph_optimization_pass.cc:185] None of the MLIR Optimization Passes are enabled (registered 2)\n"
     ]
    },
    {
     "name": "stdout",
     "output_type": "stream",
     "text": [
      "Epoch 1/15\n",
      "219/219 [==============================] - 49s 220ms/step - loss: 1.8764 - accuracy: 0.2896 - val_loss: 1.7192 - val_accuracy: 0.2967\n",
      "Epoch 2/15\n",
      "219/219 [==============================] - 46s 212ms/step - loss: 1.4390 - accuracy: 0.4199 - val_loss: 1.5264 - val_accuracy: 0.3623\n",
      "Epoch 3/15\n",
      "219/219 [==============================] - 47s 215ms/step - loss: 1.1733 - accuracy: 0.5156 - val_loss: 1.0445 - val_accuracy: 0.5880\n",
      "Epoch 4/15\n",
      "219/219 [==============================] - 46s 212ms/step - loss: 0.9432 - accuracy: 0.6146 - val_loss: 0.7030 - val_accuracy: 0.7430\n",
      "Epoch 5/15\n",
      "219/219 [==============================] - 47s 215ms/step - loss: 0.7388 - accuracy: 0.7120 - val_loss: 0.6067 - val_accuracy: 0.7373\n",
      "Epoch 6/15\n",
      "219/219 [==============================] - 47s 215ms/step - loss: 0.6185 - accuracy: 0.7614 - val_loss: 0.4640 - val_accuracy: 0.8740\n",
      "Epoch 7/15\n",
      "219/219 [==============================] - 47s 213ms/step - loss: 0.5119 - accuracy: 0.8247 - val_loss: 0.3799 - val_accuracy: 0.8890\n",
      "Epoch 8/15\n",
      "219/219 [==============================] - 46s 212ms/step - loss: 0.4049 - accuracy: 0.8711 - val_loss: 0.2751 - val_accuracy: 0.9530\n",
      "Epoch 9/15\n",
      "219/219 [==============================] - 46s 211ms/step - loss: 0.3391 - accuracy: 0.9019 - val_loss: 0.4008 - val_accuracy: 0.8640\n",
      "Epoch 10/15\n",
      "219/219 [==============================] - 47s 213ms/step - loss: 0.2822 - accuracy: 0.9229 - val_loss: 0.2154 - val_accuracy: 0.9673\n",
      "Epoch 11/15\n",
      "219/219 [==============================] - 47s 217ms/step - loss: 0.2546 - accuracy: 0.9333 - val_loss: 0.2605 - val_accuracy: 0.9360\n",
      "Epoch 12/15\n",
      "219/219 [==============================] - 46s 212ms/step - loss: 0.2260 - accuracy: 0.9391 - val_loss: 0.2708 - val_accuracy: 0.9393\n",
      "Epoch 13/15\n",
      "219/219 [==============================] - 48s 219ms/step - loss: 0.2106 - accuracy: 0.9503 - val_loss: 0.2035 - val_accuracy: 0.9660\n",
      "Epoch 14/15\n",
      "219/219 [==============================] - 47s 214ms/step - loss: 0.1725 - accuracy: 0.9584 - val_loss: 0.1725 - val_accuracy: 0.9753\n",
      "Epoch 15/15\n",
      "219/219 [==============================] - 47s 213ms/step - loss: 0.1554 - accuracy: 0.9637 - val_loss: 0.1938 - val_accuracy: 0.9703\n"
     ]
    }
   ],
   "source": [
    "loss = model.fit(X_train, y_train, validation_data = (X_test, y_test), epochs = 15)"
   ]
  },
  {
   "cell_type": "code",
   "execution_count": 6,
   "id": "0b8cbbde",
   "metadata": {},
   "outputs": [
    {
     "name": "stdout",
     "output_type": "stream",
     "text": [
      "Accuracy on train set - 97.03%\n"
     ]
    }
   ],
   "source": [
    "pred = model.predict(X_test).argmax(axis=1)\n",
    "print('Accuracy on train set - {0:.02%}'.format((pred == y_test).mean()))"
   ]
  },
  {
   "cell_type": "code",
   "execution_count": 8,
   "id": "4e1edd21",
   "metadata": {},
   "outputs": [],
   "source": [
    "model.save('model.h5')"
   ]
  },
  {
   "cell_type": "code",
   "execution_count": 10,
   "id": "f2505163",
   "metadata": {},
   "outputs": [
    {
     "name": "stderr",
     "output_type": "stream",
     "text": [
      "2021-12-19 22:49:02.327524: W tensorflow/core/framework/cpu_allocator_impl.cc:80] Allocation of 200000000 exceeds 10% of free system memory.\n"
     ]
    },
    {
     "ename": "ValueError",
     "evalue": "Input 0 of layer sequential is incompatible with the layer: : expected min_ndim=4, found ndim=3. Full shape received: (10000, 50, 50)",
     "output_type": "error",
     "traceback": [
      "\u001b[0;31m---------------------------------------------------------------------------\u001b[0m",
      "\u001b[0;31mValueError\u001b[0m                                Traceback (most recent call last)",
      "\u001b[0;32m/tmp/ipykernel_945/3333915243.py\u001b[0m in \u001b[0;36m<module>\u001b[0;34m\u001b[0m\n\u001b[1;32m      7\u001b[0m \u001b[0;34m\u001b[0m\u001b[0m\n\u001b[1;32m      8\u001b[0m \u001b[0mmodel\u001b[0m \u001b[0;34m=\u001b[0m \u001b[0mkeras\u001b[0m\u001b[0;34m.\u001b[0m\u001b[0mmodels\u001b[0m\u001b[0;34m.\u001b[0m\u001b[0mload_model\u001b[0m\u001b[0;34m(\u001b[0m\u001b[0;34m'model.h5'\u001b[0m\u001b[0;34m)\u001b[0m\u001b[0;34m\u001b[0m\u001b[0;34m\u001b[0m\u001b[0m\n\u001b[0;32m----> 9\u001b[0;31m \u001b[0mevaluate\u001b[0m\u001b[0;34m(\u001b[0m\u001b[0;34m'flatland_train.data'\u001b[0m\u001b[0;34m,\u001b[0m \u001b[0mmodel\u001b[0m\u001b[0;34m)\u001b[0m\u001b[0;34m\u001b[0m\u001b[0;34m\u001b[0m\u001b[0m\n\u001b[0m",
      "\u001b[0;32m/tmp/ipykernel_945/3333915243.py\u001b[0m in \u001b[0;36mevaluate\u001b[0;34m(path, model)\u001b[0m\n\u001b[1;32m      3\u001b[0m     \u001b[0my\u001b[0m\u001b[0;34m[\u001b[0m\u001b[0my\u001b[0m \u001b[0;34m!=\u001b[0m \u001b[0;36m0\u001b[0m\u001b[0;34m]\u001b[0m \u001b[0;34m-=\u001b[0m \u001b[0;36m2\u001b[0m\u001b[0;34m\u001b[0m\u001b[0;34m\u001b[0m\u001b[0m\n\u001b[1;32m      4\u001b[0m     \u001b[0mX\u001b[0m \u001b[0;34m=\u001b[0m \u001b[0mX\u001b[0m \u001b[0;34m/\u001b[0m \u001b[0;36m255.\u001b[0m\u001b[0;34m\u001b[0m\u001b[0;34m\u001b[0m\u001b[0m\n\u001b[0;32m----> 5\u001b[0;31m     \u001b[0macc\u001b[0m \u001b[0;34m=\u001b[0m \u001b[0mnp\u001b[0m\u001b[0;34m.\u001b[0m\u001b[0mmean\u001b[0m\u001b[0;34m(\u001b[0m\u001b[0mmodel\u001b[0m\u001b[0;34m(\u001b[0m\u001b[0mX\u001b[0m\u001b[0;34m)\u001b[0m\u001b[0;34m.\u001b[0m\u001b[0mnumpy\u001b[0m\u001b[0;34m(\u001b[0m\u001b[0;34m)\u001b[0m\u001b[0;34m.\u001b[0m\u001b[0margmax\u001b[0m\u001b[0;34m(\u001b[0m\u001b[0maxis\u001b[0m\u001b[0;34m=\u001b[0m\u001b[0;36m1\u001b[0m\u001b[0;34m)\u001b[0m \u001b[0;34m==\u001b[0m \u001b[0my\u001b[0m\u001b[0;34m)\u001b[0m\u001b[0;34m\u001b[0m\u001b[0;34m\u001b[0m\u001b[0m\n\u001b[0m\u001b[1;32m      6\u001b[0m     \u001b[0;32mreturn\u001b[0m \u001b[0macc\u001b[0m\u001b[0;34m\u001b[0m\u001b[0;34m\u001b[0m\u001b[0m\n\u001b[1;32m      7\u001b[0m \u001b[0;34m\u001b[0m\u001b[0m\n",
      "\u001b[0;32m/usr/local/lib/python3.8/dist-packages/keras/engine/base_layer.py\u001b[0m in \u001b[0;36m__call__\u001b[0;34m(self, *args, **kwargs)\u001b[0m\n\u001b[1;32m   1018\u001b[0m         training=training_mode):\n\u001b[1;32m   1019\u001b[0m \u001b[0;34m\u001b[0m\u001b[0m\n\u001b[0;32m-> 1020\u001b[0;31m       \u001b[0minput_spec\u001b[0m\u001b[0;34m.\u001b[0m\u001b[0massert_input_compatibility\u001b[0m\u001b[0;34m(\u001b[0m\u001b[0mself\u001b[0m\u001b[0;34m.\u001b[0m\u001b[0minput_spec\u001b[0m\u001b[0;34m,\u001b[0m \u001b[0minputs\u001b[0m\u001b[0;34m,\u001b[0m \u001b[0mself\u001b[0m\u001b[0;34m.\u001b[0m\u001b[0mname\u001b[0m\u001b[0;34m)\u001b[0m\u001b[0;34m\u001b[0m\u001b[0;34m\u001b[0m\u001b[0m\n\u001b[0m\u001b[1;32m   1021\u001b[0m       \u001b[0;32mif\u001b[0m \u001b[0meager\u001b[0m\u001b[0;34m:\u001b[0m\u001b[0;34m\u001b[0m\u001b[0;34m\u001b[0m\u001b[0m\n\u001b[1;32m   1022\u001b[0m         \u001b[0mcall_fn\u001b[0m \u001b[0;34m=\u001b[0m \u001b[0mself\u001b[0m\u001b[0;34m.\u001b[0m\u001b[0mcall\u001b[0m\u001b[0;34m\u001b[0m\u001b[0;34m\u001b[0m\u001b[0m\n",
      "\u001b[0;32m/usr/local/lib/python3.8/dist-packages/keras/engine/input_spec.py\u001b[0m in \u001b[0;36massert_input_compatibility\u001b[0;34m(input_spec, inputs, layer_name)\u001b[0m\n\u001b[1;32m    227\u001b[0m       \u001b[0mndim\u001b[0m \u001b[0;34m=\u001b[0m \u001b[0mx\u001b[0m\u001b[0;34m.\u001b[0m\u001b[0mshape\u001b[0m\u001b[0;34m.\u001b[0m\u001b[0mrank\u001b[0m\u001b[0;34m\u001b[0m\u001b[0;34m\u001b[0m\u001b[0m\n\u001b[1;32m    228\u001b[0m       \u001b[0;32mif\u001b[0m \u001b[0mndim\u001b[0m \u001b[0;32mis\u001b[0m \u001b[0;32mnot\u001b[0m \u001b[0;32mNone\u001b[0m \u001b[0;32mand\u001b[0m \u001b[0mndim\u001b[0m \u001b[0;34m<\u001b[0m \u001b[0mspec\u001b[0m\u001b[0;34m.\u001b[0m\u001b[0mmin_ndim\u001b[0m\u001b[0;34m:\u001b[0m\u001b[0;34m\u001b[0m\u001b[0;34m\u001b[0m\u001b[0m\n\u001b[0;32m--> 229\u001b[0;31m         raise ValueError('Input ' + str(input_index) + ' of layer ' +\n\u001b[0m\u001b[1;32m    230\u001b[0m                          \u001b[0mlayer_name\u001b[0m \u001b[0;34m+\u001b[0m \u001b[0;34m' is incompatible with the layer: '\u001b[0m\u001b[0;34m\u001b[0m\u001b[0;34m\u001b[0m\u001b[0m\n\u001b[1;32m    231\u001b[0m                          \u001b[0;34m': expected min_ndim='\u001b[0m \u001b[0;34m+\u001b[0m \u001b[0mstr\u001b[0m\u001b[0;34m(\u001b[0m\u001b[0mspec\u001b[0m\u001b[0;34m.\u001b[0m\u001b[0mmin_ndim\u001b[0m\u001b[0;34m)\u001b[0m \u001b[0;34m+\u001b[0m\u001b[0;34m\u001b[0m\u001b[0;34m\u001b[0m\u001b[0m\n",
      "\u001b[0;31mValueError\u001b[0m: Input 0 of layer sequential is incompatible with the layer: : expected min_ndim=4, found ndim=3. Full shape received: (10000, 50, 50)"
     ]
    }
   ],
   "source": [
    "def evaluate(path, model):\n",
    "    X, y = pickle.load(gzip.open(path, 'rb'))\n",
    "    y[y != 0] -= 2\n",
    "    X = X / 255.\n",
    "    acc = np.mean(model(X).numpy().argmax(axis=1) == y)\n",
    "    return acc\n",
    "\n",
    "model = keras.models.load_model('model.h5')\n",
    "evaluate('flatland_train.data', model)"
   ]
  },
  {
   "cell_type": "code",
   "execution_count": null,
   "id": "a84cf1d0",
   "metadata": {},
   "outputs": [],
   "source": []
  }
 ],
 "metadata": {
  "kernelspec": {
   "display_name": "Python 3 (ipykernel)",
   "language": "python",
   "name": "python3"
  },
  "language_info": {
   "codemirror_mode": {
    "name": "ipython",
    "version": 3
   },
   "file_extension": ".py",
   "mimetype": "text/x-python",
   "name": "python",
   "nbconvert_exporter": "python",
   "pygments_lexer": "ipython3",
   "version": "3.8.10"
  }
 },
 "nbformat": 4,
 "nbformat_minor": 5
}
